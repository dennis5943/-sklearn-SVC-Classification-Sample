{
 "cells": [
  {
   "cell_type": "code",
   "execution_count": 1,
   "metadata": {
    "collapsed": false,
    "deletable": true,
    "editable": true
   },
   "outputs": [
    {
     "name": "stdout",
     "output_type": "stream",
     "text": [
      "6\n"
     ]
    }
   ],
   "source": [
    "import numpy\n",
    "\n",
    "str = '國民黨7日開中常會，談國民黨主席是否要提早交接，但未果。即將退位的國民黨主席洪秀柱允諾，下周會定案，但她在會後向媒體表示，她不知道她會不會提前請辭，但是她不會默默地走，一定要讓大家知道。中常會結束後，媒體詢問洪秀柱，若吳敦義堅持8月20日召開全代會再交接該怎麼辦，她語氣堅定地說，「他不提前交接，我就提前走」，她還透露國民黨團總召廖國棟，「天天要我滾」。至於下周是否會提前請辭，她不置可否，但是她表示，她不會默默地走，一定會讓大家知道。國民黨主席5月20日已完成改選，黨主席當選人吳敦義陣營與黨主席洪秀柱陣營為了是否提前交接及中央委員提名權、中央委員與中常委選舉是否延到8月20日全代會後等議題，爭執不休。國民黨中常委李德維等26名中常委在7日中常會提案，依黨章規定，將7月8日中央委員選舉、7月29日中常委選舉延到全代會之後舉行，避免違法爭議，進而影響選舉效力。洪秀柱親自主持會議迎戰。'\n",
    "\n",
    "print(str.count('國民黨'))\n",
    "\n",
    "\n"
   ]
  },
  {
   "cell_type": "code",
   "execution_count": 6,
   "metadata": {
    "collapsed": false,
    "deletable": true,
    "editable": true
   },
   "outputs": [
    {
     "name": "stdout",
     "output_type": "stream",
     "text": [
      "迎合|度|100|%|！|超高|級|「|20|歲|出租|女友|」|美乳|好|迷人|！|看|她|忘情|的|扭腰|畫面|太|刺激|了|…| |文| |/| |深夜|大主廚| |在|台灣|，|我們|經常在網|路上|看到|一些|什麼|出租|女友|、|一日|情人|伴遊|等廣\n",
      "女友,出租,100,20,美乳,畫面,大主廚,台灣,我們,經常在網\n"
     ]
    }
   ],
   "source": [
    "import requests\n",
    "import json\n",
    "from bs4 import BeautifulSoup\n",
    "import queue\n",
    "import threading\n",
    "import time\n",
    "import datetime\n",
    "import jieba\n",
    "import jieba.analyse\n",
    "from urllib.parse import quote\n",
    "\n",
    "#jieba.load_userdict('userdict.txt')\n",
    "\n",
    "str = \"迎合度100%！超高級「20歲出租女友」美乳好迷人！看她忘情的扭腰畫面太刺激了… 文 / 深夜大主廚 在台灣，我們經常在網路上看到一些什麼出租女友、一日情人伴遊等廣\"\n",
    "\n",
    "seg_list = jieba.cut_for_search(str)\n",
    "tags = jieba.analyse.extract_tags(str, 10)\n",
    "print(\"|\".join(seg_list))\n",
    "print(\",\".join(tags))"
   ]
  },
  {
   "cell_type": "code",
   "execution_count": 3,
   "metadata": {
    "collapsed": false,
    "deletable": true,
    "editable": true,
    "scrolled": true
   },
   "outputs": [
    {
     "name": "stdout",
     "output_type": "stream",
     "text": [
      "{'泡泡浴': 2, 'TAE': 2, '粉紅': 2, '現場': 2, '成人': 2, '最猛': 1, '畫面': 1, '沒有': 1, '極限': 1, '大主廚': 1, '經過': 0, '粉絲': 0, '連續': 0, '開場': 0, '2017': 0, '女帝': 0}\n",
      "{'泡泡浴': 0, 'TAE': 2, '粉紅': 0, '現場': 0, '成人': 2, '最猛': 0, '畫面': 1, '沒有': 0, '極限': 0, '大主廚': 1, '經過': 1, '粉絲': 1, '連續': 1, '開場': 1, '2017': 1, '女帝': 1}\n",
      "0.5\n"
     ]
    }
   ],
   "source": [
    "import requests\n",
    "import json\n",
    "from bs4 import BeautifulSoup\n",
    "import queue\n",
    "import threading\n",
    "import time\n",
    "import datetime\n",
    "import jieba\n",
    "import jieba.analyse\n",
    "from urllib.parse import quote\n",
    "\n",
    "from sklearn.metrics import pairwise_distances\n",
    "from scipy.spatial.distance import cosine\n",
    "from scipy.spatial import distance\n",
    "import numpy as np\n",
    "\n",
    "#jieba.load_userdict('userdict.txt')\n",
    "\n",
    "def StrDistance(str1,str2,tagCnt):    \n",
    "    tags1 = jieba.analyse.extract_tags(str1, 10)   \n",
    "    tags2 = jieba.analyse.extract_tags(str2, 10)\n",
    "\n",
    "    mtags = tags1 + list(set(tags2) - set(tags1))\n",
    "\n",
    "    dictionary1 = dict(zip(mtags, [str1.count(x) for x in mtags]))\n",
    "    dictionary2 = dict(zip(mtags, [str2.count(x) for x in mtags]))\n",
    "\n",
    "    print(dictionary1)\n",
    "    print(dictionary2)\n",
    "    \n",
    "    d = 1 - distance.cosine(np.array([v for k,v in dictionary1.items()],dtype = object),\n",
    "                           np.array([v for k,v in dictionary2.items()],dtype = object))    \n",
    "    return d\n",
    "\n",
    "s1 = \"狂！TAE成人展「粉紅泡泡浴」最猛畫面曝光！大尺度「挑逗影片」沒有極限…文 / 深夜大主廚 昨天在TAE活動現場的「粉紅泡泡浴」成人表演，引起了現場轟動！這\"\n",
    "s2 = \"好色喔！TAE成人展「暗黑直播女帝」自己脫了！開場讓粉絲「嚐甜頭」畫面好害羞…文 / 深夜大主廚 經過連續三天的「2017 TAE成人博覽會」，主廚深深的體會到Julia、\"\n",
    "\n",
    "print(StrDistance(s1,s2,10))"
   ]
  },
  {
   "cell_type": "code",
   "execution_count": 3,
   "metadata": {
    "collapsed": false,
    "deletable": true,
    "editable": true
   },
   "outputs": [
    {
     "name": "stdout",
     "output_type": "stream",
     "text": [
      "1.11022302463e-16\n",
      "0.0\n"
     ]
    }
   ],
   "source": [
    "from sklearn.metrics import pairwise_distances\n",
    "from scipy.spatial.distance import cosine\n",
    "from scipy.spatial import distance\n",
    "import numpy as np\n",
    "\n",
    "A = np.array([[1,23,2,5,6,2,2,6,2],[12,4,5,5],[1,2,4],[1],[2],[2]], dtype=object )\n",
    "B = np.array([[1,23,2,5,6,2,2,6,2],[12,4,5,5],[1,2,4],[1],[2],[2]], dtype=object )\n",
    "\n",
    "Aflat = np.hstack( A )\n",
    "Bflat = np.hstack( B )\n",
    "\n",
    "dist = distance.cosine( Aflat, Bflat )\n",
    "print(dist)\n",
    "\n",
    "\n",
    "print(distance.cosine(np.array([1,2,3,4,5,6],dtype = object),\n",
    "                       np.array([1,2,3,4,5,6],dtype = object)))"
   ]
  },
  {
   "cell_type": "code",
   "execution_count": 1,
   "metadata": {
    "collapsed": false,
    "deletable": true,
    "editable": true
   },
   "outputs": [
    {
     "name": "stdout",
     "output_type": "stream",
     "text": [
      "predictX [100, 100, 100, 100, 100]\n",
      "predict result: ['類別2']\n"
     ]
    },
    {
     "name": "stderr",
     "output_type": "stream",
     "text": [
      "/Library/Frameworks/Python.framework/Versions/3.6/lib/python3.6/site-packages/sklearn/utils/validation.py:395: DeprecationWarning: Passing 1d arrays as data is deprecated in 0.17 and will raise ValueError in 0.19. Reshape your data either using X.reshape(-1, 1) if your data has a single feature or X.reshape(1, -1) if it contains a single sample.\n",
      "  DeprecationWarning)\n"
     ]
    }
   ],
   "source": [
    "from sklearn import metrics\n",
    "from sklearn import svm\n",
    "import random\n",
    "import numpy as np\n",
    "\n",
    "from sklearn.svm import SVC\n",
    "\n",
    "# fit a SVM model to the data\n",
    "\n",
    "size = 10000\n",
    "vector_size = 5\n",
    "\n",
    "x_val0 = [np.random.normal(1, 6, vector_size) for i in range(0,size)]\n",
    "x_val1 = [np.random.normal(100, 6, vector_size) for i in range(0,size)]\n",
    "x_val2= [np.random.normal(200, 6, vector_size) for i in range(0,size)]\n",
    "\n",
    "x_val = np.concatenate((x_val0,x_val1,x_val2))\n",
    "#print(x_val)\n",
    "\n",
    "y_val = ['類別1'] * size + ['類別2'] * size + ['類別3'] * size\n",
    "\n",
    "clf = svm.SVC(decision_function_shape='ovo')\n",
    "clf.fit(x_val, y_val) \n",
    "SVC(C=1.0, cache_size=200, class_weight=None, coef0=0.0,\n",
    "    decision_function_shape='ovo', degree=3, gamma='auto', kernel='rbf',\n",
    "    max_iter=-1, probability=False, random_state=None, shrinking=True,\n",
    "    tol=0.001, verbose=False)\n",
    "\n",
    "#開訓結束，驗證一下\n",
    "\n",
    "predictX = np.random.normal(1, 6, vector_size)\n",
    "predictX = [100] * vector_size\n",
    "print('predictX',predictX)\n",
    "print('predict result:',clf.predict(predictX))\n"
   ]
  },
  {
   "cell_type": "code",
   "execution_count": 2,
   "metadata": {
    "collapsed": false,
    "deletable": true,
    "editable": true
   },
   "outputs": [
    {
     "name": "stdout",
     "output_type": "stream",
     "text": [
      "             precision    recall  f1-score   support\n",
      "\n",
      "        類別1       0.96      1.00      0.98     10000\n",
      "        類別1       1.00      0.98      0.99     10000\n",
      "        類別1       1.00      0.98      0.99     10000\n",
      "\n",
      "avg / total       0.99      0.99      0.99     30000\n",
      "\n"
     ]
    }
   ],
   "source": [
    "x_val0 = [np.random.normal(1, 6, vector_size) for i in range(0,size)]\n",
    "x_val1 = [np.random.normal(100, 6, vector_size) for i in range(0,size)]\n",
    "x_val2= [np.random.normal(200, 6, vector_size) for i in range(0,size)]\n",
    "\n",
    "x_val = np.concatenate((x_val0,x_val1,x_val2))\n",
    "#print(x_val)\n",
    "\n",
    "y_val = ['類別1'] * size + ['類別2'] * size + ['類別3'] * size\n",
    "\n",
    "print(metrics.classification_report(y_val, clf.predict(x_val), target_names=y_val))"
   ]
  },
  {
   "cell_type": "code",
   "execution_count": 6,
   "metadata": {
    "collapsed": false
   },
   "outputs": [
    {
     "name": "stdout",
     "output_type": "stream",
     "text": [
      "(1.0, 0.0)\n",
      "(-1.0, 0.0)\n"
     ]
    }
   ],
   "source": [
    "import numpy as np\n",
    "import scipy as sc\n",
    "\n",
    "a = [2,4,6,8] \n",
    "b = [4,8,12,16] \n",
    "c= [-4,-8,-12,-16]\n",
    "\n",
    "a = np.array(a)\n",
    "b = np.array(b)\n",
    "c = np.array(c)\n",
    "print(sc.stats.pearsonr(a,b))\n",
    "print(sc.stats.pearsonr(a,c))#(-1.0,0.0)"
   ]
  },
  {
   "cell_type": "code",
   "execution_count": 3,
   "metadata": {
    "collapsed": false,
    "deletable": true,
    "editable": true
   },
   "outputs": [
    {
     "name": "stdout",
     "output_type": "stream",
     "text": [
      "             precision    recall  f1-score   support\n",
      "\n",
      "    class 0       0.50      1.00      0.67         1\n",
      "    class 1       0.00      0.00      0.00         1\n",
      "    class 2       1.00      0.67      0.80         3\n",
      "\n",
      "avg / total       0.70      0.60      0.61         5\n",
      "\n"
     ]
    }
   ],
   "source": [
    "from sklearn.metrics import classification_report\n",
    "y_true = [0, 1, 2, 2, 2]\n",
    "y_pred = [0, 0, 2, 2, 1]\n",
    "target_names = ['class 0', 'class 1', 'class 2']\n",
    "print(classification_report(y_true, y_pred, target_names=target_names))\n",
    "            "
   ]
  }
 ],
 "metadata": {
  "kernelspec": {
   "display_name": "Python 3",
   "language": "python",
   "name": "python3"
  },
  "language_info": {
   "codemirror_mode": {
    "name": "ipython",
    "version": 3
   },
   "file_extension": ".py",
   "mimetype": "text/x-python",
   "name": "python",
   "nbconvert_exporter": "python",
   "pygments_lexer": "ipython3",
   "version": "3.6.0"
  }
 },
 "nbformat": 4,
 "nbformat_minor": 2
}
